{
 "cells": [
  {
   "cell_type": "code",
   "execution_count": 1,
   "metadata": {},
   "outputs": [
    {
     "name": "stdout",
     "output_type": "stream",
     "text": [
      "1.1.0\n",
      "loading class: airplane\n",
      "loading class: ant\n",
      "loading class: bear\n",
      "loading class: bird\n",
      "loading class: bridge\n",
      "loading class: bus\n",
      "loading class: calendar\n",
      "loading class: car\n",
      "loading class: chair\n",
      "loading class: dog\n",
      "loading class: dolphin\n",
      "loading class: door\n",
      "loading class: flower\n",
      "loading class: fork\n",
      "loading class: truck\n",
      "Data loading finished, 6000 totally\n",
      "airplane calendar bear bridge \n"
     ]
    }
   ],
   "source": [
    "import os\n",
    "import numpy as np\n",
    "from PIL import Image\n",
    "import cv2\n",
    "import matplotlib.pyplot as plt # 基础数据处理\n",
    "\n",
    "from random import sample # 随机采样\n",
    "\n",
    "import torch\n",
    "from torch.utils.data import Dataset\n",
    "from torch.utils.data import DataLoader # Pytorch\n",
    "print(torch.__version__)\n",
    "\n",
    "import torchvision\n",
    "import torchvision.transforms as transforms\n",
    "\n",
    "from tqdm import tqdm as tqdm\n",
    "\n",
    "train_root = './train'\n",
    "labels = os.listdir(train_root)\n",
    "\n",
    "\n",
    "class DrawDataset(Dataset):\n",
    "    def __init__(self, data_root = '',transform = None,anlysis = False):\n",
    "        self.mean = 0.16443629118313927\n",
    "        self.std = 0.3239202530511322\n",
    "        self.transform = transform\n",
    "        self.anlysis = False # only used when first computation\n",
    "        self.label_mapper = {'airplane': 0, 'ant': 1, 'bear': 2, 'bird': 3, 'bridge': 4,\n",
    "                        'bus'     : 5, 'calendar': 6, 'car': 7, 'chair': 8, 'dog': 9,\n",
    "                        'dolphin' : 10, 'door': 11, 'flower': 12, 'fork': 13, 'truck': 14}\n",
    "        self.IO_mapper = []\n",
    "        for x in self.label_mapper:\n",
    "            print('loading class:',x)\n",
    "            temp_root = os.path.join(train_root,x)\n",
    "            temp_list = os.listdir(temp_root)\n",
    "            for img in temp_list:\n",
    "                full_str = os.path.join(temp_root,img)\n",
    "                self.IO_mapper.append([full_str , self.label_mapper[x]])\n",
    "        print('Data loading finished,',len(self.IO_mapper),'totally')\n",
    "        if anlysis:\n",
    "            self.analysis()\n",
    "    \n",
    "    def __len__(self):\n",
    "        return len(self.IO_mapper)\n",
    "    \n",
    "    def __getitem__(self,idx):\n",
    "        image = cv2.imread(self.IO_mapper[idx][0],0)\n",
    "        if self.transform is not None:\n",
    "            image = self.transform(Image.fromarray(image))\n",
    "        return image,self.IO_mapper[idx][1]\n",
    "    \n",
    "    def analysis(self):\n",
    "        print('Data analysising……')\n",
    "        self.mean = 0\n",
    "        self.std = 0\n",
    "        temp = []\n",
    "        for i in tqdm(self):\n",
    "            img = i[0].flatten() # 转为一维数组方便计算\n",
    "            self.mean += np.sum(img)\n",
    "        self.mean = self.mean / (len(self)*img.size)\n",
    "        print('Mean:',self.mean)\n",
    "        for i in self:\n",
    "            img = i[0].flatten() # 转为一维数组方便计算\n",
    "            self.std = self.std + np.sum((img - self.mean) ** 2)\n",
    "        self.std = np.sqrt(self.std / (len(self)*img.size))\n",
    "        print('Std:',self.std)\n",
    "\n",
    "\n",
    "# Preprocessing\n",
    "train_transform = transforms.Compose([\n",
    "    transforms.RandomCrop(28,padding = 4), # 在周围补0后随机裁切，相当于平移这个图像\n",
    "#     transforms.Resize(32),\n",
    "    transforms.RandomHorizontalFlip(), # 一半的概率水平翻转\n",
    "    transforms.RandomRotation((-30,30)), # 随机旋转\n",
    "    transforms.ToTensor(),\n",
    "    transforms.Normalize((0.16443629118313927, ),(0.3239202530511322, ))\n",
    "])\n",
    "\n",
    "# Dataset & Dataloader\n",
    "Draws = DrawDataset('./train',transform = None)\n",
    "dl = DataLoader(Draws, batch_size = 4, shuffle = True, num_workers = 8)\n",
    "\n",
    "\n",
    "def imshow(img):\n",
    "    img = img/2 + 0.5 # unnormalize\n",
    "    npimg = img.numpy()\n",
    "    plt.imshow(np.transpose(npimg,(1,2,0)))\n",
    "\n",
    "dataiter = iter(dl)\n",
    "images,labels = dataiter.next()\n",
    "\n",
    "k = list(Draws.label_mapper.keys()) # [1,2,3,5,4]\n",
    "v = list(Draws.label_mapper.values()) #[3,5,2,1,1]\n",
    "imshow(torchvision.utils.make_grid(images))\n",
    "\n",
    "labelshow = ''\n",
    "for i in labels:\n",
    "    labelshow += k[v.index(i)] + ' '\n",
    "print(labelshow)"
   ]
  },
  {
   "cell_type": "code",
   "execution_count": 2,
   "metadata": {},
   "outputs": [
    {
     "name": "stdout",
     "output_type": "stream",
     "text": [
      "Image batch dimensions: (6000, 784)\n",
      "Image label dimensions: (6000,)\n"
     ]
    }
   ],
   "source": [
    "RANDOM_SEED = 1\n",
    "LEARNING_RATE = 0.001\n",
    "WEIGHT_DECAY = 0.0001\n",
    "BATCH_SIZE = 400*15\n",
    "NUM_EPOCHS = 250\n",
    "\n",
    "# Architecture\n",
    "NUM_FEATURES = 28*28\n",
    "NUM_CLASSES = 15\n",
    "\n",
    "# Other\n",
    "GRAYSCALE = True\n",
    "\n",
    "# for server-1\n",
    "# Datasets\n",
    "trainset = Draws\n",
    "\n",
    "# DataLoader\n",
    "\n",
    "trainloader = DataLoader(Draws, batch_size=BATCH_SIZE, shuffle = True, num_workers = 8)\n",
    "\n",
    "classes = ['airplane', 'ant', 'bear', 'bird', 'bridge',\n",
    "                        'bus', 'calendar', 'car', 'chair', 'dog',\n",
    "                        'dolphin', 'door', 'flower', 'fork', 'truck']\n",
    "\n",
    "# Checking datasets\n",
    "for images, labels in trainloader:\n",
    "    X_all = images.numpy().reshape(6000,784)\n",
    "    print('Image batch dimensions:', X_all.shape)\n",
    "    Y_all = labels.numpy()\n",
    "    print('Image label dimensions:', Y_all.shape)\n",
    "    break\n",
    "\n"
   ]
  },
  {
   "cell_type": "code",
   "execution_count": 3,
   "metadata": {},
   "outputs": [],
   "source": [
    "from sklearn import svm, metrics, datasets\n",
    "from sklearn.utils import Bunch\n",
    "from sklearn.model_selection import GridSearchCV, train_test_split\n",
    "\n",
    "from skimage.io import imread\n",
    "from skimage.transform import resize"
   ]
  },
  {
   "cell_type": "markdown",
   "metadata": {},
   "source": [
    "# Split DATA"
   ]
  },
  {
   "cell_type": "code",
   "execution_count": 4,
   "metadata": {},
   "outputs": [
    {
     "name": "stdout",
     "output_type": "stream",
     "text": [
      "Image batch dimensions (4500, 784)\n"
     ]
    }
   ],
   "source": [
    "\n",
    "X_train, X_test, y_train, y_test = train_test_split(\n",
    "    X_all, Y_all, test_size=0.25,random_state=12450)\n",
    "print('Image batch dimensions', X_train.shape)"
   ]
  },
  {
   "cell_type": "markdown",
   "metadata": {},
   "source": [
    "# Train data with parameter optimization\n"
   ]
  },
  {
   "cell_type": "code",
   "execution_count": 5,
   "metadata": {},
   "outputs": [
    {
     "name": "stderr",
     "output_type": "stream",
     "text": [
      "/usr/local/anaconda3/lib/python3.7/site-packages/sklearn/model_selection/_split.py:1978: FutureWarning: The default value of cv will change from 3 to 5 in version 0.22. Specify it explicitly to silence this warning.\n",
      "  warnings.warn(CV_WARNING, FutureWarning)\n"
     ]
    },
    {
     "name": "stdout",
     "output_type": "stream",
     "text": [
      "Classification report for - \n",
      "GridSearchCV(cv='warn', error_score='raise-deprecating',\n",
      "             estimator=SVC(C=1.0, cache_size=200, class_weight=None, coef0=0.0,\n",
      "                           decision_function_shape='ovr', degree=3,\n",
      "                           gamma='auto_deprecated', kernel='rbf', max_iter=-1,\n",
      "                           probability=False, random_state=None, shrinking=True,\n",
      "                           tol=0.001, verbose=False),\n",
      "             iid='warn', n_jobs=None,\n",
      "             param_grid=[{'C': [1, 10, 100, 1000], 'kernel': ['linear']},\n",
      "                         {'C': [1, 10, 100, 1000], 'gamma': [0.001, 0.0001],\n",
      "                          'kernel': ['rbf']}],\n",
      "             pre_dispatch='2*n_jobs', refit=True, return_train_score=False,\n",
      "             scoring=None, verbose=0):\n",
      "              precision    recall  f1-score   support\n",
      "\n",
      "           0       0.41      0.51      0.45        99\n",
      "           1       0.34      0.31      0.32        99\n",
      "           2       0.46      0.39      0.42       121\n",
      "           3       0.44      0.41      0.43       105\n",
      "           4       0.47      0.57      0.52        96\n",
      "           5       0.60      0.70      0.64        92\n",
      "           6       0.61      0.79      0.69        87\n",
      "           7       0.67      0.67      0.67        88\n",
      "           8       0.88      0.84      0.86       108\n",
      "           9       0.28      0.22      0.25        98\n",
      "          10       0.52      0.44      0.47       103\n",
      "          11       0.86      0.87      0.87       103\n",
      "          12       0.75      0.68      0.71       105\n",
      "          13       0.78      0.83      0.80        98\n",
      "          14       0.48      0.44      0.46        98\n",
      "\n",
      "    accuracy                           0.57      1500\n",
      "   macro avg       0.57      0.58      0.57      1500\n",
      "weighted avg       0.57      0.57      0.57      1500\n",
      "\n",
      "\n"
     ]
    }
   ],
   "source": [
    "param_grid = [\n",
    "  {'C': [1, 10, 100, 1000], 'kernel': ['linear']},\n",
    "  {'C': [1, 10, 100, 1000], 'gamma': [0.001, 0.0001], 'kernel': ['rbf']},\n",
    " ]\n",
    "svc = svm.SVC()\n",
    "clf = GridSearchCV(svc, param_grid)\n",
    "clf.fit(X_train, y_train)\n",
    "y_pred = clf.predict(X_test)\n",
    "print(\"Classification report for - \\n{}:\\n{}\\n\".format(\n",
    "    clf, metrics.classification_report(y_test, y_pred)))"
   ]
  },
  {
   "cell_type": "markdown",
   "metadata": {},
   "source": [
    "# ZIMO"
   ]
  },
  {
   "cell_type": "code",
   "execution_count": 90,
   "metadata": {},
   "outputs": [
    {
     "name": "stdout",
     "output_type": "stream",
     "text": [
      "Image batch dimensions: (6000, 784)\n",
      "Image label dimensions: torch.Size([6000])\n",
      "0.7216666666666667\n",
      "0.9989583333333333\n"
     ]
    }
   ],
   "source": [
    "import sys\n",
    "import numpy as np\n",
    "import pandas as pd\n",
    "from sklearn.model_selection import train_test_split\n",
    "from sklearn.linear_model import LogisticRegression\n",
    "from sklearn import metrics\n",
    "from sklearn.decomposition import PCA\n",
    "from sklearn.metrics import accuracy_score\n",
    "from sklearn.naive_bayes import BernoulliNB\n",
    "from sklearn.svm import LinearSVC,SVC\n",
    "from sklearn import preprocessing\n",
    "from sklearn.linear_model import LogisticRegressionCV\n",
    "from sklearn.externals import joblib\n",
    "from sklearn.model_selection import StratifiedKFold\n",
    "from sklearn.model_selection import GridSearchCV\n",
    "'''train_data = sys.argv[1]\n",
    "test_data = sys.argv[2]\n",
    "#load data\n",
    "data = pd.read_csv(train_data)\n",
    "\n",
    "X = data.iloc[:,1:4097]\n",
    "#print(X.columns)\n",
    "Y = data.loc[:,'categories']\n",
    "'''\n",
    "\n",
    "#99.81 10 fold C 2.0 rbf\n",
    "#############   cv  ###################################\n",
    "# number = 20\n",
    "\n",
    "# mi = [-4 + i*8.0/(number-1) for i in range(number) ]\n",
    "\n",
    "# #Cs = [10**i for i in mi]\n",
    "# Cs = [0.5,0.8,1.4,2,3,4]\n",
    "# parameters = { 'C':Cs}\n",
    "# svc = SVC(gamma=\"scale\",kernel = 'rbf',random_state =2)\n",
    "# clf = GridSearchCV(svc, parameters,cv = 5,n_jobs =-1,return_train_score = True)\n",
    "# clf.fit(x_train, y_train)\n",
    "\n",
    "\n",
    "\n",
    "# y_train_pred = clf.predict(x_train)\n",
    "# #y_valid_pred = clf.predict(x_valid_scaled)\n",
    "\n",
    "# train_accuracy = accuracy_score(y_train, y_train_pred)\n",
    "\n",
    "# #test_accuracy = accuracy_score(y_valid,y_valid_pred)\n",
    "\n",
    "# joblib.dump(clf, \"SVC_CV4.model\")\n",
    "\n",
    "# print('SVM')\n",
    "# print('Training accuracy: %0.2f%%' % (train_accuracy*100))\n",
    "##########################################################################\n",
    "for images, labels in trainloader:\n",
    "    X_all = images.numpy().reshape(6000,784)\n",
    "    print('Image batch dimensions:', tensorarray.shape)\n",
    "    Y_all = labels.numpy()\n",
    "    print('Image label dimensions:', labels.shape)\n",
    "    break\n",
    "\n",
    "# estimator = PCA(n_components=50)\n",
    "# X_all = estimator.fit_transform(X_all)\n",
    "\n",
    "x_train, x_test, y_train, y_test = train_test_split(X_all, Y_all, test_size=0.2, random_state=12450)\n",
    "clf = SVC(C=5, gamma = \"scale\",kernel = 'poly', probability=True, random_state = 12450).fit(x_train, y_train)\n",
    "# clf = LinearSVC(C=1.623776739188721, random_state =None).fit(x_train, y_train)\n",
    "\n",
    "y_result=clf.predict(x_test)\n",
    "y_train_result=clf.predict(x_train)\n",
    "\n",
    "test_accuracy = accuracy_score(y_test,y_result)\n",
    "test_accuracy2 = accuracy_score(y_train,y_train_result)\n",
    "print(test_accuracy)\n",
    "print(test_accuracy2)"
   ]
  },
  {
   "cell_type": "code",
   "execution_count": 92,
   "metadata": {},
   "outputs": [
    {
     "name": "stdout",
     "output_type": "stream",
     "text": [
      "[ 8  5  3 ... 12 14 13]\n",
      "[ 8  5  9 ... 13 14 13]\n"
     ]
    }
   ],
   "source": []
  },
  {
   "cell_type": "code",
   "execution_count": 6,
   "metadata": {},
   "outputs": [
    {
     "name": "stdout",
     "output_type": "stream",
     "text": [
      "Image batch dimensions: (6000, 784)\n",
      "Image label dimensions: (6000,)\n",
      "==============================\n",
      "KNeighborsClassifier\n",
      "****Results****\n",
      "Accuracy: 65.5833%\n",
      "Log Loss: 5.876861158177713\n",
      "==============================\n",
      "SVC\n",
      "****Results****\n",
      "Accuracy: 72.9167%\n",
      "Log Loss: 0.8115342989166218\n"
     ]
    },
    {
     "name": "stderr",
     "output_type": "stream",
     "text": [
      "/usr/local/anaconda3/lib/python3.7/site-packages/sklearn/svm/base.py:193: FutureWarning: The default value of gamma will change from 'auto' to 'scale' in version 0.22 to account better for unscaled features. Set gamma explicitly to 'auto' or 'scale' to avoid this warning.\n",
      "  \"avoid this warning.\", FutureWarning)\n"
     ]
    },
    {
     "name": "stdout",
     "output_type": "stream",
     "text": [
      "==============================\n",
      "NuSVC\n",
      "****Results****\n",
      "Accuracy: 4.7500%\n",
      "Log Loss: 2.7109431714854395\n",
      "==============================\n",
      "DecisionTreeClassifier\n",
      "****Results****\n",
      "Accuracy: 46.8333%\n",
      "Log Loss: 18.363116116627527\n"
     ]
    },
    {
     "name": "stderr",
     "output_type": "stream",
     "text": [
      "/usr/local/anaconda3/lib/python3.7/site-packages/sklearn/ensemble/forest.py:245: FutureWarning: The default value of n_estimators will change from 10 in version 0.20 to 100 in 0.22.\n",
      "  \"10 in version 0.20 to 100 in 0.22.\", FutureWarning)\n"
     ]
    },
    {
     "name": "stdout",
     "output_type": "stream",
     "text": [
      "==============================\n",
      "RandomForestClassifier\n",
      "****Results****\n",
      "Accuracy: 54.5000%\n",
      "Log Loss: 4.267723733085799\n",
      "==============================\n",
      "AdaBoostClassifier\n",
      "****Results****\n",
      "Accuracy: 18.6667%\n",
      "Log Loss: 2.528975301369996\n",
      "==============================\n",
      "GradientBoostingClassifier\n",
      "****Results****\n",
      "Accuracy: 62.7500%\n",
      "Log Loss: 1.1322976528596052\n",
      "==============================\n",
      "GaussianNB\n",
      "****Results****\n",
      "Accuracy: 60.4167%\n",
      "Log Loss: 1.5090067047982545\n",
      "==============================\n",
      "LinearDiscriminantAnalysis\n",
      "****Results****\n",
      "Accuracy: 57.9167%\n",
      "Log Loss: 1.477031041924749\n",
      "==============================\n",
      "QuadraticDiscriminantAnalysis\n",
      "****Results****\n",
      "Accuracy: 67.2500%\n",
      "Log Loss: 3.169053410025206\n",
      "==============================\n",
      "time 161.2922716140747\n"
     ]
    }
   ],
   "source": [
    "from sklearn.metrics import accuracy_score, log_loss\n",
    "from sklearn.neighbors import KNeighborsClassifier\n",
    "from sklearn.model_selection import train_test_split\n",
    "import pandas as pd\n",
    "import numpy as np\n",
    "from sklearn.decomposition import PCA\n",
    "from sklearn.svm import SVC, LinearSVC, NuSVC\n",
    "from sklearn.tree import DecisionTreeClassifier\n",
    "from sklearn.ensemble import RandomForestClassifier, AdaBoostClassifier, GradientBoostingClassifier\n",
    "from sklearn.naive_bayes import GaussianNB\n",
    "from sklearn.discriminant_analysis import LinearDiscriminantAnalysis\n",
    "from sklearn.discriminant_analysis import QuadraticDiscriminantAnalysis\n",
    "import time\n",
    "a = time.time()\n",
    "trainloader = DataLoader(Draws, batch_size=6000, shuffle = True, num_workers = 8)\n",
    "\n",
    "for images, labels in trainloader:\n",
    "    X_all = images.numpy().reshape(6000,784)\n",
    "    print('Image batch dimensions:', X_all.shape)\n",
    "    Y_all = labels.numpy()\n",
    "    print('Image label dimensions:', Y_all.shape)\n",
    "    break\n",
    "\n",
    "# estimator = PCA(n_components=50)\n",
    "# X_all = estimator.fit_transform(X_all)\n",
    "estimator = PCA(n_components=50)\n",
    "X_all = estimator.fit_transform(X_all)\n",
    "\n",
    "x_train, x_test, y_train, y_test = train_test_split(X_all, Y_all, test_size=0.2, random_state=12450)\n",
    "\n",
    "classifiers = [\n",
    "    KNeighborsClassifier(3),\n",
    "    SVC(C=5, gamma = \"scale\",kernel = 'poly', probability=True, random_state = 12450),\n",
    "    NuSVC(probability=True),\n",
    "    DecisionTreeClassifier(),\n",
    "    RandomForestClassifier(),\n",
    "    AdaBoostClassifier(),\n",
    "    GradientBoostingClassifier(),\n",
    "    GaussianNB(),\n",
    "    LinearDiscriminantAnalysis(),\n",
    "    QuadraticDiscriminantAnalysis()]\n",
    "\n",
    "# Logging for Visual Comparison\n",
    "log_cols=[\"Classifier\", \"Accuracy\", \"Log Loss\"]\n",
    "log = pd.DataFrame(columns=log_cols)\n",
    "\n",
    "for clf in classifiers:\n",
    "    clf.fit(x_train, y_train)\n",
    "    name = clf.__class__.__name__\n",
    "\n",
    "    print(\"=\"*30)\n",
    "    print(name)\n",
    "\n",
    "    print('****Results****')\n",
    "    train_predictions = clf.predict(x_test)\n",
    "    acc = accuracy_score(y_test, train_predictions)\n",
    "    print(\"Accuracy: {:.4%}\".format(acc))\n",
    "\n",
    "    train_predictions = clf.predict_proba(x_test)\n",
    "    ll = log_loss(y_test, train_predictions)\n",
    "    print(\"Log Loss: {}\".format(ll))\n",
    "\n",
    "    log_entry = pd.DataFrame([[name, acc*100, ll]], columns=log_cols)\n",
    "    log = log.append(log_entry)\n",
    "\n",
    "print(\"=\"*30)\n",
    "print('time',time.time()-a)\n"
   ]
  },
  {
   "cell_type": "code",
   "execution_count": 11,
   "metadata": {},
   "outputs": [
    {
     "data": {
      "image/png": "[encoded data removed]",
      "text/plain": [
       "<Figure size 432x288 with 1 Axes>"
      ]
     },
     "metadata": {
      "needs_background": "light"
     },
     "output_type": "display_data"
    },
    {
     "data": {
      "image/png": "[encoded data removed]",
      "text/plain": [
       "<Figure size 432x288 with 1 Axes>"
      ]
     },
     "metadata": {
      "needs_background": "light"
     },
     "output_type": "display_data"
    }
   ],
   "source": [
    "import seaborn as sns\n",
    "sns.set_color_codes(\"muted\")\n",
    "sns.barplot(x='Accuracy', y='Classifier', data=log, color=\"b\")\n",
    "\n",
    "plt.xlabel('Accuracy %')\n",
    "plt.title('Classifier Accuracy')\n",
    "plt.show()\n",
    "\n",
    "sns.set_color_codes(\"muted\")\n",
    "sns.barplot(x='Log Loss', y='Classifier', data=log, color=\"g\")\n",
    "\n",
    "plt.xlabel('Log Loss')\n",
    "plt.title('Classifier Log Loss')\n",
    "plt.show()"
   ]
  },
  {
   "cell_type": "code",
   "execution_count": 14,
   "metadata": {},
   "outputs": [
    {
     "data": {
      "image/png": "[encoded data removed]",
      "text/plain": [
       "<Figure size 432x288 with 1 Axes>"
      ]
     },
     "metadata": {
      "needs_background": "light"
     },
     "output_type": "display_data"
    },
    {
     "data": {
      "image/png": "[encoded data removed]",
      "text/plain": [
       "<Figure size 432x288 with 1 Axes>"
      ]
     },
     "metadata": {
      "needs_background": "light"
     },
     "output_type": "display_data"
    }
   ],
   "source": [
    "import seaborn as sns\n",
    "sns.set_color_codes(\"muted\")\n",
    "sns.barplot(x='Accuracy', y='Classifier', data=log, color=\"b\")\n",
    "\n",
    "plt.xlabel('Accuracy %')\n",
    "plt.title('Classifier Accuracy')\n",
    "plt.show()\n",
    "\n",
    "sns.set_color_codes(\"muted\")\n",
    "sns.barplot(x='Log Loss', y='Classifier', data=log, color=\"g\")\n",
    "\n",
    "plt.xlabel('Log Loss')\n",
    "plt.title('Classifier Log Loss After PCA')\n",
    "plt.show()"
   ]
  },
  {
   "cell_type": "code",
   "execution_count": 1,
   "metadata": {},
   "outputs": [
    {
     "data": {
      "text/plain": [
       "0.0"
      ]
     },
     "execution_count": 1,
     "metadata": {},
     "output_type": "execute_result"
    }
   ],
   "source": [
    "0.01-1e-2"
   ]
  },
  {
   "cell_type": "code",
   "execution_count": null,
   "metadata": {},
   "outputs": [],
   "source": []
  }
 ],
 "metadata": {
  "kernelspec": {
   "display_name": "Python 3",
   "language": "python",
   "name": "python3"
  },
  "language_info": {
   "codemirror_mode": {
    "name": "ipython",
    "version": 3
   },
   "file_extension": ".py",
   "mimetype": "text/x-python",
   "name": "python",
   "nbconvert_exporter": "python",
   "pygments_lexer": "ipython3",
   "version": "3.7.3"
  }
 },
 "nbformat": 4,
 "nbformat_minor": 4
}
