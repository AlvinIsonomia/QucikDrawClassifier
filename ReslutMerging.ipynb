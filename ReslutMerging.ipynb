{
 "cells": [
  {
   "cell_type": "code",
   "execution_count": 11,
   "metadata": {},
   "outputs": [],
   "source": [
    "import os\n",
    "import csv\n",
    "from tqdm import tqdm as tqdm\n",
    "temp_list = os.listdir('./Baselines')\n",
    "a = 0\n",
    "voting = []\n",
    "dict0 = {0:0, 1:0, 2:0, 3:0, 4:0, 5:0, 6:0, 7:0, 8:0, 9:0, 10:0, 11:0, 12:0, 13:0, 14:0}\n",
    "weights = [0.78,0.75,0.84296,0.86200,0.87022,0.89074,0.90377,0.90762] # Weights is their testing Acc\n",
    "for i in range(0,45000):\n",
    "    voting.append( {0:0, 1:0, 2:0, 3:0, 4:0, 5:0, 6:0, 7:0, 8:0, 9:0, 10:0, 11:0, 12:0, 13:0, 14:0})\n",
    "\n",
    "index = 0\n",
    "for temp in temp_list:\n",
    "    with open(os.path.join('./Baselines',temp)) as f:\n",
    "        f_csv = csv.reader(f)\n",
    "        headers = next(f_csv)\n",
    "        for row in f_csv:\n",
    "            voting[int(row[0])][int(row[1])] += weights[index]\n",
    "    index += 1\n",
    "print(temp_list)\n",
    "print(len(voting))\n",
    "print(int(row[0]))"
   ]
  },
  {
   "cell_type": "code",
   "execution_count": 10,
   "metadata": {},
   "outputs": [
    {
     "name": "stderr",
     "output_type": "stream",
     "text": [
      "100%|██████████| 45000/45000 [00:00<00:00, 138435.93it/s]\n"
     ]
    }
   ],
   "source": [
    "with open('Voting.csv','w')as f:\n",
    "    f_csv = csv.writer(f)\n",
    "    f_csv.writerow(headers)\n",
    "    for i in tqdm(range(0,45000)):\n",
    "        f_csv.writerow([i,int(sorted(voting[i],key=voting[i].__getitem__)[-1])])"
   ]
  },
  {
   "cell_type": "code",
   "execution_count": null,
   "metadata": {},
   "outputs": [],
   "source": []
  },
  {
   "cell_type": "code",
   "execution_count": null,
   "metadata": {},
   "outputs": [],
   "source": []
  }
 ],
 "metadata": {
  "kernelspec": {
   "display_name": "Python 3",
   "language": "python",
   "name": "python3"
  },
  "language_info": {
   "codemirror_mode": {
    "name": "ipython",
    "version": 3
   },
   "file_extension": ".py",
   "mimetype": "text/x-python",
   "name": "python",
   "nbconvert_exporter": "python",
   "pygments_lexer": "ipython3",
   "version": "3.7.3"
  }
 },
 "nbformat": 4,
 "nbformat_minor": 4
}
